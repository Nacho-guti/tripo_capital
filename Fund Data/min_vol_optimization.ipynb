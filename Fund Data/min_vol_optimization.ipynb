{
 "cells": [
  {
   "cell_type": "code",
   "execution_count": 99,
   "id": "3f459840",
   "metadata": {},
   "outputs": [],
   "source": [
    "import pandas as pd\n",
    "import numpy as np\n",
    "import matplotlib.pyplot as plt\n"
   ]
  },
  {
   "cell_type": "code",
   "execution_count": 100,
   "id": "21d62df7",
   "metadata": {},
   "outputs": [],
   "source": [
    "# load price data\n",
    "file_path = 'Min_vol/em_min_vol_etf.xlsx'\n",
    "df = pd.read_excel(file_path, sheet_name='Sheet1', index_col=0, parse_dates=True)\n",
    "# Drop missing values\n",
    "df.dropna(subset=[\"Last Price\"], inplace=True)"
   ]
  },
  {
   "cell_type": "code",
   "execution_count": null,
   "id": "a2b36fa1",
   "metadata": {},
   "outputs": [
    {
     "name": "stdout",
     "output_type": "stream",
     "text": [
      "ISHARES EDGE MSCI EM MIN VOL\n"
     ]
    }
   ],
   "source": [
    "name = df[\"Name\"].dropna().iloc[0]\n",
    "# print(name)\n",
    "# updated on 04/06/2025\n"
   ]
  },
  {
   "cell_type": "markdown",
   "id": "a54f8630",
   "metadata": {},
   "source": []
  },
  {
   "cell_type": "code",
   "execution_count": null,
   "id": "1335ec0b",
   "metadata": {},
   "outputs": [
    {
     "name": "stdout",
     "output_type": "stream",
     "text": [
      "Name of the ETF: iShares Emerging Markets Minimum Volatility\n",
      "Mean Daily Return: 0.0121%\n",
      "Standard Deviation of Daily Returns: 0.7012%\n",
      "Annualised Return: 3.09%\n",
      "Annualised Volatility: 11.13%\n",
      "Sharpe Ratio: 0.04\n"
     ]
    }
   ],
   "source": [
    "# Sort from oldest to newest\n",
    "df.sort_index(inplace=True)\n",
    "# Compute daily returns\n",
    "daily_returns = df[\"Last Price\"].pct_change().dropna()\n",
    "\n",
    "risk_free_rate = 2.67/100 \n",
    "\n",
    "# Compute key stats\n",
    "mean = daily_returns.mean()\n",
    "std_dev = daily_returns.std()\n",
    "ann_ret = (1 + daily_returns.mean()) ** 252 - 1\n",
    "ann_vol = daily_returns.std() * np.sqrt(252)\n",
    "sharpe_ratio = (ann_ret - risk_free_rate ) / ann_vol\n",
    "\n",
    "#Print key stats\n",
    "print(f\"Name of the ETF: {name}\")\n",
    "print(f\"Mean Daily Return: {mean:.4%}\")\n",
    "print(f\"Standard Deviation of Daily Returns: {std_dev:.4%}\")\n",
    "print(f\"Annualised Return: {ann_ret:.2%}\")\n",
    "print(f\"Annualised Volatility: {ann_vol:.2%}\")\n",
    "print(f\"Sharpe Ratio: {sharpe_ratio:.2f}\")\n"
   ]
  },
  {
   "cell_type": "code",
   "execution_count": null,
   "id": "091a5a4f",
   "metadata": {},
   "outputs": [],
   "source": []
  },
  {
   "cell_type": "code",
   "execution_count": null,
   "id": "608af9b6",
   "metadata": {},
   "outputs": [],
   "source": []
  },
  {
   "cell_type": "code",
   "execution_count": null,
   "id": "f4d668ef",
   "metadata": {},
   "outputs": [],
   "source": []
  }
 ],
 "metadata": {
  "kernelspec": {
   "display_name": ".venv",
   "language": "python",
   "name": "python3"
  },
  "language_info": {
   "codemirror_mode": {
    "name": "ipython",
    "version": 3
   },
   "file_extension": ".py",
   "mimetype": "text/x-python",
   "name": "python",
   "nbconvert_exporter": "python",
   "pygments_lexer": "ipython3",
   "version": "3.12.4"
  }
 },
 "nbformat": 4,
 "nbformat_minor": 5
}
