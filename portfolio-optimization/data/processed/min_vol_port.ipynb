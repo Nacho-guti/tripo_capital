{
 "cells": [
  {
   "cell_type": "code",
   "execution_count": 1,
   "metadata": {},
   "outputs": [],
   "source": [
    "import pandas as pd\n",
    "import numpy as np\n",
    "import matplotlib.pyplot as plt"
   ]
  },
  {
   "cell_type": "code",
   "execution_count": 2,
   "metadata": {},
   "outputs": [
    {
     "name": "stdout",
     "output_type": "stream",
     "text": [
      "Number of assets: 27\n",
      "Data period: 2022-06-09 to 2025-06-04\n"
     ]
    }
   ],
   "source": [
    "# Load data\n",
    "df = pd.read_excel(\"etf_combined.xlsx\", index_col='Date', parse_dates=True)\n",
    "returns = df.pct_change().dropna()\n",
    "\n",
    "# Calculate annual metrics\n",
    "annual_returns = returns.mean() * 252\n",
    "annual_volatility = returns.std() * np.sqrt(252)\n",
    "cov_matrix_annual = returns.cov() * 252\n",
    "\n",
    "print(f\"Number of assets: {len(returns.columns)}\")\n",
    "print(f\"Data period: {returns.index[0].date()} to {returns.index[-1].date()}\")"
   ]
  },
  {
   "cell_type": "code",
   "execution_count": null,
   "metadata": {},
   "outputs": [],
   "source": []
  }
 ],
 "metadata": {
  "kernelspec": {
   "display_name": ".venv",
   "language": "python",
   "name": "python3"
  },
  "language_info": {
   "codemirror_mode": {
    "name": "ipython",
    "version": 3
   },
   "file_extension": ".py",
   "mimetype": "text/x-python",
   "name": "python",
   "nbconvert_exporter": "python",
   "pygments_lexer": "ipython3",
   "version": "3.12.4"
  }
 },
 "nbformat": 4,
 "nbformat_minor": 2
}
