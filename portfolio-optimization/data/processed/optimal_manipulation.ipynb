{
 "cells": [
  {
   "cell_type": "code",
   "execution_count": 17,
   "metadata": {},
   "outputs": [],
   "source": [
    "import numpy as np\n",
    "import pandas as pd\n",
    "import seaborn as sns\n",
    "import matplotlib.pyplot as plt\n",
    "import os"
   ]
  },
  {
   "cell_type": "code",
   "execution_count": 50,
   "metadata": {},
   "outputs": [],
   "source": [
    "all_assets = pd.read_excel(\"etf_combined.xlsx\", index_col=\"Date\", parse_dates=True)\n",
    "optimal_portfolio = pd.read_excel(\"../../results/selected_assets_summary.xlsx\", usecols=[\"Ticker\", \"Weight\"]).set_index(\"Ticker\")\n",
    "benchmark_returns = pd.read_excel(\"../raw/benchmarks/ftse_balance_prices.xlsx\", parse_dates=True).set_index(\"Date\")"
   ]
  },
  {
   "cell_type": "code",
   "execution_count": 52,
   "metadata": {},
   "outputs": [
    {
     "ename": "KeyError",
     "evalue": "'Last Price'",
     "output_type": "error",
     "traceback": [
      "\u001b[31m---------------------------------------------------------------------------\u001b[39m",
      "\u001b[31mDateParseError\u001b[39m                            Traceback (most recent call last)",
      "\u001b[36mFile \u001b[39m\u001b[32m~/Documents/2_PP/WM/.venv/lib/python3.12/site-packages/pandas/core/indexes/datetimes.py:603\u001b[39m, in \u001b[36mDatetimeIndex.get_loc\u001b[39m\u001b[34m(self, key)\u001b[39m\n\u001b[32m    602\u001b[39m \u001b[38;5;28;01mtry\u001b[39;00m:\n\u001b[32m--> \u001b[39m\u001b[32m603\u001b[39m     parsed, reso = \u001b[38;5;28;43mself\u001b[39;49m\u001b[43m.\u001b[49m\u001b[43m_parse_with_reso\u001b[49m\u001b[43m(\u001b[49m\u001b[43mkey\u001b[49m\u001b[43m)\u001b[49m\n\u001b[32m    604\u001b[39m \u001b[38;5;28;01mexcept\u001b[39;00m (\u001b[38;5;167;01mValueError\u001b[39;00m, pytz.NonExistentTimeError) \u001b[38;5;28;01mas\u001b[39;00m err:\n",
      "\u001b[36mFile \u001b[39m\u001b[32m~/Documents/2_PP/WM/.venv/lib/python3.12/site-packages/pandas/core/indexes/datetimes.py:559\u001b[39m, in \u001b[36mDatetimeIndex._parse_with_reso\u001b[39m\u001b[34m(self, label)\u001b[39m\n\u001b[32m    558\u001b[39m \u001b[38;5;28;01mdef\u001b[39;00m\u001b[38;5;250m \u001b[39m\u001b[34m_parse_with_reso\u001b[39m(\u001b[38;5;28mself\u001b[39m, label: \u001b[38;5;28mstr\u001b[39m):\n\u001b[32m--> \u001b[39m\u001b[32m559\u001b[39m     parsed, reso = \u001b[38;5;28;43msuper\u001b[39;49m\u001b[43m(\u001b[49m\u001b[43m)\u001b[49m\u001b[43m.\u001b[49m\u001b[43m_parse_with_reso\u001b[49m\u001b[43m(\u001b[49m\u001b[43mlabel\u001b[49m\u001b[43m)\u001b[49m\n\u001b[32m    561\u001b[39m     parsed = Timestamp(parsed)\n",
      "\u001b[36mFile \u001b[39m\u001b[32m~/Documents/2_PP/WM/.venv/lib/python3.12/site-packages/pandas/core/indexes/datetimelike.py:293\u001b[39m, in \u001b[36mDatetimeIndexOpsMixin._parse_with_reso\u001b[39m\u001b[34m(self, label)\u001b[39m\n\u001b[32m    291\u001b[39m     label = \u001b[38;5;28mstr\u001b[39m(label)\n\u001b[32m--> \u001b[39m\u001b[32m293\u001b[39m parsed, reso_str = \u001b[43mparsing\u001b[49m\u001b[43m.\u001b[49m\u001b[43mparse_datetime_string_with_reso\u001b[49m\u001b[43m(\u001b[49m\u001b[43mlabel\u001b[49m\u001b[43m,\u001b[49m\u001b[43m \u001b[49m\u001b[43mfreqstr\u001b[49m\u001b[43m)\u001b[49m\n\u001b[32m    294\u001b[39m reso = Resolution.from_attrname(reso_str)\n",
      "\u001b[36mFile \u001b[39m\u001b[32mparsing.pyx:442\u001b[39m, in \u001b[36mpandas._libs.tslibs.parsing.parse_datetime_string_with_reso\u001b[39m\u001b[34m()\u001b[39m\n",
      "\u001b[36mFile \u001b[39m\u001b[32mparsing.pyx:666\u001b[39m, in \u001b[36mpandas._libs.tslibs.parsing.dateutil_parse\u001b[39m\u001b[34m()\u001b[39m\n",
      "\u001b[31mDateParseError\u001b[39m: Unknown datetime string format, unable to parse: Last Price",
      "\nThe above exception was the direct cause of the following exception:\n",
      "\u001b[31mKeyError\u001b[39m                                  Traceback (most recent call last)",
      "\u001b[36mCell\u001b[39m\u001b[36m \u001b[39m\u001b[32mIn[52]\u001b[39m\u001b[32m, line 15\u001b[39m\n\u001b[32m     11\u001b[39m portfolio_returns = asset_returns.dot(weights)\n\u001b[32m     12\u001b[39m portfolio_returns = portfolio_returns.pct_change().dropna().rename(\u001b[33m\"\u001b[39m\u001b[33mPortfolio Returns\u001b[39m\u001b[33m\"\u001b[39m)\n\u001b[32m---> \u001b[39m\u001b[32m15\u001b[39m benchmark_returns = \u001b[43mbenchmark_returns\u001b[49m\u001b[43m[\u001b[49m\u001b[33;43m\"\u001b[39;49m\u001b[33;43mLast Price\u001b[39;49m\u001b[33;43m\"\u001b[39;49m\u001b[43m]\u001b[49m.pct_change().dropna().rename(\u001b[33m\"\u001b[39m\u001b[33mBenchmark Returns\u001b[39m\u001b[33m\"\u001b[39m)\n\u001b[32m     17\u001b[39m \u001b[38;5;28mprint\u001b[39m(benchmark_returns)\n",
      "\u001b[36mFile \u001b[39m\u001b[32m~/Documents/2_PP/WM/.venv/lib/python3.12/site-packages/pandas/core/series.py:1121\u001b[39m, in \u001b[36mSeries.__getitem__\u001b[39m\u001b[34m(self, key)\u001b[39m\n\u001b[32m   1118\u001b[39m     \u001b[38;5;28;01mreturn\u001b[39;00m \u001b[38;5;28mself\u001b[39m._values[key]\n\u001b[32m   1120\u001b[39m \u001b[38;5;28;01melif\u001b[39;00m key_is_scalar:\n\u001b[32m-> \u001b[39m\u001b[32m1121\u001b[39m     \u001b[38;5;28;01mreturn\u001b[39;00m \u001b[38;5;28;43mself\u001b[39;49m\u001b[43m.\u001b[49m\u001b[43m_get_value\u001b[49m\u001b[43m(\u001b[49m\u001b[43mkey\u001b[49m\u001b[43m)\u001b[49m\n\u001b[32m   1123\u001b[39m \u001b[38;5;66;03m# Convert generator to list before going through hashable part\u001b[39;00m\n\u001b[32m   1124\u001b[39m \u001b[38;5;66;03m# (We will iterate through the generator there to check for slices)\u001b[39;00m\n\u001b[32m   1125\u001b[39m \u001b[38;5;28;01mif\u001b[39;00m is_iterator(key):\n",
      "\u001b[36mFile \u001b[39m\u001b[32m~/Documents/2_PP/WM/.venv/lib/python3.12/site-packages/pandas/core/series.py:1237\u001b[39m, in \u001b[36mSeries._get_value\u001b[39m\u001b[34m(self, label, takeable)\u001b[39m\n\u001b[32m   1234\u001b[39m     \u001b[38;5;28;01mreturn\u001b[39;00m \u001b[38;5;28mself\u001b[39m._values[label]\n\u001b[32m   1236\u001b[39m \u001b[38;5;66;03m# Similar to Index.get_value, but we do not fall back to positional\u001b[39;00m\n\u001b[32m-> \u001b[39m\u001b[32m1237\u001b[39m loc = \u001b[38;5;28;43mself\u001b[39;49m\u001b[43m.\u001b[49m\u001b[43mindex\u001b[49m\u001b[43m.\u001b[49m\u001b[43mget_loc\u001b[49m\u001b[43m(\u001b[49m\u001b[43mlabel\u001b[49m\u001b[43m)\u001b[49m\n\u001b[32m   1239\u001b[39m \u001b[38;5;28;01mif\u001b[39;00m is_integer(loc):\n\u001b[32m   1240\u001b[39m     \u001b[38;5;28;01mreturn\u001b[39;00m \u001b[38;5;28mself\u001b[39m._values[loc]\n",
      "\u001b[36mFile \u001b[39m\u001b[32m~/Documents/2_PP/WM/.venv/lib/python3.12/site-packages/pandas/core/indexes/datetimes.py:605\u001b[39m, in \u001b[36mDatetimeIndex.get_loc\u001b[39m\u001b[34m(self, key)\u001b[39m\n\u001b[32m    603\u001b[39m     parsed, reso = \u001b[38;5;28mself\u001b[39m._parse_with_reso(key)\n\u001b[32m    604\u001b[39m \u001b[38;5;28;01mexcept\u001b[39;00m (\u001b[38;5;167;01mValueError\u001b[39;00m, pytz.NonExistentTimeError) \u001b[38;5;28;01mas\u001b[39;00m err:\n\u001b[32m--> \u001b[39m\u001b[32m605\u001b[39m     \u001b[38;5;28;01mraise\u001b[39;00m \u001b[38;5;167;01mKeyError\u001b[39;00m(key) \u001b[38;5;28;01mfrom\u001b[39;00m\u001b[38;5;250m \u001b[39m\u001b[34;01merr\u001b[39;00m\n\u001b[32m    606\u001b[39m \u001b[38;5;28mself\u001b[39m._disallow_mismatched_indexing(parsed)\n\u001b[32m    608\u001b[39m \u001b[38;5;28;01mif\u001b[39;00m \u001b[38;5;28mself\u001b[39m._can_partial_date_slice(reso):\n",
      "\u001b[31mKeyError\u001b[39m: 'Last Price'"
     ]
    }
   ],
   "source": [
    "# Align ticker & weights\n",
    "common = all_assets.columns.intersection(optimal_portfolio.index)\n",
    "\n",
    "missing = set(optimal_portfolio.index) - set(common)\n",
    "if missing:\n",
    "    print(f\"No return series for: {missing}\")\n",
    "\n",
    "asset_returns = all_assets[common] \n",
    "weights = optimal_portfolio.loc[common, \"Weight\"].values\n",
    "\n",
    "portfolio_returns = asset_returns.dot(weights)\n",
    "portfolio_returns = portfolio_returns.pct_change().dropna().rename(\"Portfolio Returns\")\n",
    "\n",
    "\n",
    "benchmark_returns = benchmark_returns[\"Last Price\"].pct_change().dropna().rename(\"Benchmark Returns\")\n"
   ]
  },
  {
   "cell_type": "code",
   "execution_count": null,
   "metadata": {},
   "outputs": [],
   "source": [
    "\n"
   ]
  }
 ],
 "metadata": {
  "kernelspec": {
   "display_name": ".venv",
   "language": "python",
   "name": "python3"
  },
  "language_info": {
   "codemirror_mode": {
    "name": "ipython",
    "version": 3
   },
   "file_extension": ".py",
   "mimetype": "text/x-python",
   "name": "python",
   "nbconvert_exporter": "python",
   "pygments_lexer": "ipython3",
   "version": "3.12.4"
  }
 },
 "nbformat": 4,
 "nbformat_minor": 2
}
