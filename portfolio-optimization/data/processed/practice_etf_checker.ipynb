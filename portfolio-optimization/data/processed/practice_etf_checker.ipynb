{
 "cells": [
  {
   "cell_type": "code",
   "execution_count": 1,
   "metadata": {},
   "outputs": [],
   "source": [
    "import pandas as pd\n",
    "import numpy as np\n",
    "import os"
   ]
  },
  {
   "cell_type": "code",
   "execution_count": 2,
   "metadata": {},
   "outputs": [
    {
     "data": {
      "text/plain": [
       "'/Users/nachogutierrezdelaroza/Documents/2_PP/WM/portfolio-optimization/data/processed'"
      ]
     },
     "execution_count": 2,
     "metadata": {},
     "output_type": "execute_result"
    }
   ],
   "source": [
    "pwd"
   ]
  },
  {
   "cell_type": "code",
   "execution_count": 3,
   "metadata": {},
   "outputs": [
    {
     "name": "stdout",
     "output_type": "stream",
     "text": [
      "Index(['Last Price', 'Volume', 'SMAVG (15)', 'Name', 'FIGI', 'Ticker',\n",
      "       'Description'],\n",
      "      dtype='object')\n"
     ]
    },
    {
     "data": {
      "text/html": [
       "<div>\n",
       "<style scoped>\n",
       "    .dataframe tbody tr th:only-of-type {\n",
       "        vertical-align: middle;\n",
       "    }\n",
       "\n",
       "    .dataframe tbody tr th {\n",
       "        vertical-align: top;\n",
       "    }\n",
       "\n",
       "    .dataframe thead th {\n",
       "        text-align: right;\n",
       "    }\n",
       "</style>\n",
       "<table border=\"1\" class=\"dataframe\">\n",
       "  <thead>\n",
       "    <tr style=\"text-align: right;\">\n",
       "      <th></th>\n",
       "      <th>Last Price</th>\n",
       "      <th>Volume</th>\n",
       "      <th>SMAVG (15)</th>\n",
       "      <th>Name</th>\n",
       "      <th>FIGI</th>\n",
       "      <th>Ticker</th>\n",
       "      <th>Description</th>\n",
       "    </tr>\n",
       "    <tr>\n",
       "      <th>Date</th>\n",
       "      <th></th>\n",
       "      <th></th>\n",
       "      <th></th>\n",
       "      <th></th>\n",
       "      <th></th>\n",
       "      <th></th>\n",
       "      <th></th>\n",
       "    </tr>\n",
       "  </thead>\n",
       "  <tbody>\n",
       "    <tr>\n",
       "      <th>2025-06-06</th>\n",
       "      <td>13.370</td>\n",
       "      <td>204.0</td>\n",
       "      <td>2691.0</td>\n",
       "      <td>INVESCO FTSE RAFI UK 100</td>\n",
       "      <td>BBG000TR0RZ0</td>\n",
       "      <td>PSRU LN Equity</td>\n",
       "      <td>The Fund seeks investment results that corresp...</td>\n",
       "    </tr>\n",
       "    <tr>\n",
       "      <th>2025-06-05</th>\n",
       "      <td>13.305</td>\n",
       "      <td>317.0</td>\n",
       "      <td>2726.0</td>\n",
       "      <td>NaN</td>\n",
       "      <td>NaN</td>\n",
       "      <td>NaN</td>\n",
       "      <td>NaN</td>\n",
       "    </tr>\n",
       "    <tr>\n",
       "      <th>2025-06-04</th>\n",
       "      <td>13.316</td>\n",
       "      <td>128.0</td>\n",
       "      <td>2789.0</td>\n",
       "      <td>NaN</td>\n",
       "      <td>NaN</td>\n",
       "      <td>NaN</td>\n",
       "      <td>NaN</td>\n",
       "    </tr>\n",
       "    <tr>\n",
       "      <th>2025-06-03</th>\n",
       "      <td>13.330</td>\n",
       "      <td>639.0</td>\n",
       "      <td>2949.0</td>\n",
       "      <td>NaN</td>\n",
       "      <td>NaN</td>\n",
       "      <td>NaN</td>\n",
       "      <td>NaN</td>\n",
       "    </tr>\n",
       "    <tr>\n",
       "      <th>2025-06-02</th>\n",
       "      <td>13.311</td>\n",
       "      <td>22541.0</td>\n",
       "      <td>3122.0</td>\n",
       "      <td>NaN</td>\n",
       "      <td>NaN</td>\n",
       "      <td>NaN</td>\n",
       "      <td>NaN</td>\n",
       "    </tr>\n",
       "  </tbody>\n",
       "</table>\n",
       "</div>"
      ],
      "text/plain": [
       "            Last Price   Volume  SMAVG (15)                      Name  \\\n",
       "Date                                                                    \n",
       "2025-06-06      13.370    204.0      2691.0  INVESCO FTSE RAFI UK 100   \n",
       "2025-06-05      13.305    317.0      2726.0                       NaN   \n",
       "2025-06-04      13.316    128.0      2789.0                       NaN   \n",
       "2025-06-03      13.330    639.0      2949.0                       NaN   \n",
       "2025-06-02      13.311  22541.0      3122.0                       NaN   \n",
       "\n",
       "                    FIGI          Ticker  \\\n",
       "Date                                       \n",
       "2025-06-06  BBG000TR0RZ0  PSRU LN Equity   \n",
       "2025-06-05           NaN             NaN   \n",
       "2025-06-04           NaN             NaN   \n",
       "2025-06-03           NaN             NaN   \n",
       "2025-06-02           NaN             NaN   \n",
       "\n",
       "                                                  Description  \n",
       "Date                                                           \n",
       "2025-06-06  The Fund seeks investment results that corresp...  \n",
       "2025-06-05                                                NaN  \n",
       "2025-06-04                                                NaN  \n",
       "2025-06-03                                                NaN  \n",
       "2025-06-02                                                NaN  "
      ]
     },
     "execution_count": 3,
     "metadata": {},
     "output_type": "execute_result"
    }
   ],
   "source": [
    "df = pd.read_excel(\"../raw/equities/uk_large_cap/uklarge_inv_etf.xlsx\", index_col='Date', parse_dates=True)\n",
    "print(df.columns)\n",
    "df.head()\n"
   ]
  },
  {
   "cell_type": "code",
   "execution_count": 4,
   "metadata": {},
   "outputs": [
    {
     "data": {
      "text/html": [
       "<div>\n",
       "<style scoped>\n",
       "    .dataframe tbody tr th:only-of-type {\n",
       "        vertical-align: middle;\n",
       "    }\n",
       "\n",
       "    .dataframe tbody tr th {\n",
       "        vertical-align: top;\n",
       "    }\n",
       "\n",
       "    .dataframe thead th {\n",
       "        text-align: right;\n",
       "    }\n",
       "</style>\n",
       "<table border=\"1\" class=\"dataframe\">\n",
       "  <thead>\n",
       "    <tr style=\"text-align: right;\">\n",
       "      <th></th>\n",
       "      <th>PSRU LN Equity</th>\n",
       "      <th>Volume</th>\n",
       "      <th>SMAVG (15)</th>\n",
       "      <th>Name</th>\n",
       "      <th>FIGI</th>\n",
       "      <th>Ticker</th>\n",
       "      <th>Description</th>\n",
       "    </tr>\n",
       "    <tr>\n",
       "      <th>Date</th>\n",
       "      <th></th>\n",
       "      <th></th>\n",
       "      <th></th>\n",
       "      <th></th>\n",
       "      <th></th>\n",
       "      <th></th>\n",
       "      <th></th>\n",
       "    </tr>\n",
       "  </thead>\n",
       "  <tbody>\n",
       "    <tr>\n",
       "      <th>2025-06-06</th>\n",
       "      <td>13.370</td>\n",
       "      <td>204.0</td>\n",
       "      <td>2691.0</td>\n",
       "      <td>INVESCO FTSE RAFI UK 100</td>\n",
       "      <td>BBG000TR0RZ0</td>\n",
       "      <td>PSRU LN Equity</td>\n",
       "      <td>The Fund seeks investment results that corresp...</td>\n",
       "    </tr>\n",
       "    <tr>\n",
       "      <th>2025-06-05</th>\n",
       "      <td>13.305</td>\n",
       "      <td>317.0</td>\n",
       "      <td>2726.0</td>\n",
       "      <td>NaN</td>\n",
       "      <td>NaN</td>\n",
       "      <td>NaN</td>\n",
       "      <td>NaN</td>\n",
       "    </tr>\n",
       "    <tr>\n",
       "      <th>2025-06-04</th>\n",
       "      <td>13.316</td>\n",
       "      <td>128.0</td>\n",
       "      <td>2789.0</td>\n",
       "      <td>NaN</td>\n",
       "      <td>NaN</td>\n",
       "      <td>NaN</td>\n",
       "      <td>NaN</td>\n",
       "    </tr>\n",
       "    <tr>\n",
       "      <th>2025-06-03</th>\n",
       "      <td>13.330</td>\n",
       "      <td>639.0</td>\n",
       "      <td>2949.0</td>\n",
       "      <td>NaN</td>\n",
       "      <td>NaN</td>\n",
       "      <td>NaN</td>\n",
       "      <td>NaN</td>\n",
       "    </tr>\n",
       "    <tr>\n",
       "      <th>2025-06-02</th>\n",
       "      <td>13.311</td>\n",
       "      <td>22541.0</td>\n",
       "      <td>3122.0</td>\n",
       "      <td>NaN</td>\n",
       "      <td>NaN</td>\n",
       "      <td>NaN</td>\n",
       "      <td>NaN</td>\n",
       "    </tr>\n",
       "  </tbody>\n",
       "</table>\n",
       "</div>"
      ],
      "text/plain": [
       "            PSRU LN Equity   Volume  SMAVG (15)                      Name  \\\n",
       "Date                                                                        \n",
       "2025-06-06          13.370    204.0      2691.0  INVESCO FTSE RAFI UK 100   \n",
       "2025-06-05          13.305    317.0      2726.0                       NaN   \n",
       "2025-06-04          13.316    128.0      2789.0                       NaN   \n",
       "2025-06-03          13.330    639.0      2949.0                       NaN   \n",
       "2025-06-02          13.311  22541.0      3122.0                       NaN   \n",
       "\n",
       "                    FIGI          Ticker  \\\n",
       "Date                                       \n",
       "2025-06-06  BBG000TR0RZ0  PSRU LN Equity   \n",
       "2025-06-05           NaN             NaN   \n",
       "2025-06-04           NaN             NaN   \n",
       "2025-06-03           NaN             NaN   \n",
       "2025-06-02           NaN             NaN   \n",
       "\n",
       "                                                  Description  \n",
       "Date                                                           \n",
       "2025-06-06  The Fund seeks investment results that corresp...  \n",
       "2025-06-05                                                NaN  \n",
       "2025-06-04                                                NaN  \n",
       "2025-06-03                                                NaN  \n",
       "2025-06-02                                                NaN  "
      ]
     },
     "execution_count": 4,
     "metadata": {},
     "output_type": "execute_result"
    }
   ],
   "source": [
    "ticker_value = df['Ticker'].dropna().iloc[0]\n",
    "df = df.rename(columns={'Last Price': ticker_value})\n",
    "df.head()"
   ]
  },
  {
   "cell_type": "code",
   "execution_count": 5,
   "metadata": {},
   "outputs": [
    {
     "name": "stdout",
     "output_type": "stream",
     "text": [
      "2022-06-09 10:49:47.130009\n"
     ]
    },
    {
     "data": {
      "text/html": [
       "<div>\n",
       "<style scoped>\n",
       "    .dataframe tbody tr th:only-of-type {\n",
       "        vertical-align: middle;\n",
       "    }\n",
       "\n",
       "    .dataframe tbody tr th {\n",
       "        vertical-align: top;\n",
       "    }\n",
       "\n",
       "    .dataframe thead th {\n",
       "        text-align: right;\n",
       "    }\n",
       "</style>\n",
       "<table border=\"1\" class=\"dataframe\">\n",
       "  <thead>\n",
       "    <tr style=\"text-align: right;\">\n",
       "      <th></th>\n",
       "      <th>PSRU LN Equity</th>\n",
       "    </tr>\n",
       "    <tr>\n",
       "      <th>Date</th>\n",
       "      <th></th>\n",
       "    </tr>\n",
       "  </thead>\n",
       "  <tbody>\n",
       "    <tr>\n",
       "      <th>2022-06-16</th>\n",
       "      <td>10.672</td>\n",
       "    </tr>\n",
       "    <tr>\n",
       "      <th>2022-06-15</th>\n",
       "      <td>11.238</td>\n",
       "    </tr>\n",
       "    <tr>\n",
       "      <th>2022-06-14</th>\n",
       "      <td>11.133</td>\n",
       "    </tr>\n",
       "    <tr>\n",
       "      <th>2022-06-13</th>\n",
       "      <td>11.115</td>\n",
       "    </tr>\n",
       "    <tr>\n",
       "      <th>2022-06-10</th>\n",
       "      <td>11.268</td>\n",
       "    </tr>\n",
       "  </tbody>\n",
       "</table>\n",
       "</div>"
      ],
      "text/plain": [
       "            PSRU LN Equity\n",
       "Date                      \n",
       "2022-06-16          10.672\n",
       "2022-06-15          11.238\n",
       "2022-06-14          11.133\n",
       "2022-06-13          11.115\n",
       "2022-06-10          11.268"
      ]
     },
     "execution_count": 5,
     "metadata": {},
     "output_type": "execute_result"
    }
   ],
   "source": [
    "df_clean = df[[ticker_value]]\n",
    "three_years_back = pd.Timestamp.now() - pd.DateOffset(years=3)\n",
    "print(three_years_back)\n",
    "df1 = df_clean[df_clean.index >= three_years_back]\n",
    "df1.tail()"
   ]
  },
  {
   "cell_type": "code",
   "execution_count": 6,
   "metadata": {},
   "outputs": [
    {
     "data": {
      "text/html": [
       "<div>\n",
       "<style scoped>\n",
       "    .dataframe tbody tr th:only-of-type {\n",
       "        vertical-align: middle;\n",
       "    }\n",
       "\n",
       "    .dataframe tbody tr th {\n",
       "        vertical-align: top;\n",
       "    }\n",
       "\n",
       "    .dataframe thead th {\n",
       "        text-align: right;\n",
       "    }\n",
       "</style>\n",
       "<table border=\"1\" class=\"dataframe\">\n",
       "  <thead>\n",
       "    <tr style=\"text-align: right;\">\n",
       "      <th></th>\n",
       "      <th>FFEDWGA LX</th>\n",
       "    </tr>\n",
       "    <tr>\n",
       "      <th>Date</th>\n",
       "      <th></th>\n",
       "    </tr>\n",
       "  </thead>\n",
       "  <tbody>\n",
       "    <tr>\n",
       "      <th>2020-05-22</th>\n",
       "      <td>2.106</td>\n",
       "    </tr>\n",
       "    <tr>\n",
       "      <th>2020-05-21</th>\n",
       "      <td>2.101</td>\n",
       "    </tr>\n",
       "    <tr>\n",
       "      <th>2020-05-20</th>\n",
       "      <td>2.113</td>\n",
       "    </tr>\n",
       "    <tr>\n",
       "      <th>2020-05-19</th>\n",
       "      <td>2.073</td>\n",
       "    </tr>\n",
       "    <tr>\n",
       "      <th>2020-05-18</th>\n",
       "      <td>2.079</td>\n",
       "    </tr>\n",
       "  </tbody>\n",
       "</table>\n",
       "</div>"
      ],
      "text/plain": [
       "            FFEDWGA LX\n",
       "Date                  \n",
       "2020-05-22       2.106\n",
       "2020-05-21       2.101\n",
       "2020-05-20       2.113\n",
       "2020-05-19       2.073\n",
       "2020-05-18       2.079"
      ]
     },
     "execution_count": 6,
     "metadata": {},
     "output_type": "execute_result"
    }
   ],
   "source": [
    "df2 = pd.read_excel(\"../raw/equities/dev_ex_us/fid_gro_exus_etf.xlsx\", index_col='Date', parse_dates=True)\n",
    "ticker2 = df2['Ticker'].dropna().iloc[0]\n",
    "df2 = df2.rename(columns={'Last Price': ticker2})\n",
    "df2_clean = df2[[ticker2]]\n",
    "df2_clean.tail()\n"
   ]
  },
  {
   "cell_type": "code",
   "execution_count": 7,
   "metadata": {},
   "outputs": [
    {
     "name": "stdout",
     "output_type": "stream",
     "text": [
      "2022-06-09 10:49:48.004407\n"
     ]
    },
    {
     "data": {
      "text/html": [
       "<div>\n",
       "<style scoped>\n",
       "    .dataframe tbody tr th:only-of-type {\n",
       "        vertical-align: middle;\n",
       "    }\n",
       "\n",
       "    .dataframe tbody tr th {\n",
       "        vertical-align: top;\n",
       "    }\n",
       "\n",
       "    .dataframe thead th {\n",
       "        text-align: right;\n",
       "    }\n",
       "</style>\n",
       "<table border=\"1\" class=\"dataframe\">\n",
       "  <thead>\n",
       "    <tr style=\"text-align: right;\">\n",
       "      <th></th>\n",
       "      <th>FFEDWGA LX</th>\n",
       "    </tr>\n",
       "    <tr>\n",
       "      <th>Date</th>\n",
       "      <th></th>\n",
       "    </tr>\n",
       "  </thead>\n",
       "  <tbody>\n",
       "    <tr>\n",
       "      <th>2022-06-16</th>\n",
       "      <td>2.004</td>\n",
       "    </tr>\n",
       "    <tr>\n",
       "      <th>2022-06-15</th>\n",
       "      <td>2.073</td>\n",
       "    </tr>\n",
       "    <tr>\n",
       "      <th>2022-06-14</th>\n",
       "      <td>2.050</td>\n",
       "    </tr>\n",
       "    <tr>\n",
       "      <th>2022-06-13</th>\n",
       "      <td>2.073</td>\n",
       "    </tr>\n",
       "    <tr>\n",
       "      <th>2022-06-10</th>\n",
       "      <td>2.124</td>\n",
       "    </tr>\n",
       "  </tbody>\n",
       "</table>\n",
       "</div>"
      ],
      "text/plain": [
       "            FFEDWGA LX\n",
       "Date                  \n",
       "2022-06-16       2.004\n",
       "2022-06-15       2.073\n",
       "2022-06-14       2.050\n",
       "2022-06-13       2.073\n",
       "2022-06-10       2.124"
      ]
     },
     "execution_count": 7,
     "metadata": {},
     "output_type": "execute_result"
    }
   ],
   "source": [
    "three_years_back = pd.Timestamp.now() - pd.DateOffset(years=3)\n",
    "print(three_years_back)\n",
    "df2 = df2_clean[df2_clean.index >= three_years_back]\n",
    "df2.tail()"
   ]
  },
  {
   "cell_type": "code",
   "execution_count": 8,
   "metadata": {},
   "outputs": [
    {
     "name": "stdout",
     "output_type": "stream",
     "text": [
      "            PSRU LN Equity\n",
      "Date                      \n",
      "2022-06-10          11.268\n",
      "2022-06-13          11.115\n",
      "2022-06-14          11.133\n",
      "2022-06-15          11.238\n",
      "2022-06-16          10.672\n",
      "            FFEDWGA LX\n",
      "Date                  \n",
      "2022-06-10       2.124\n",
      "2022-06-13       2.073\n",
      "2022-06-14       2.050\n",
      "2022-06-15       2.073\n",
      "2022-06-16       2.004\n"
     ]
    }
   ],
   "source": [
    "df1 = df1.sort_index()\n",
    "print(df1.head())\n",
    "df2 = df2.sort_index()\n",
    "print(df2.head())\n"
   ]
  },
  {
   "cell_type": "code",
   "execution_count": 9,
   "metadata": {},
   "outputs": [
    {
     "name": "stdout",
     "output_type": "stream",
     "text": [
      "            PSRU LN Equity  FFEDWGA LX\n",
      "Date                                  \n",
      "2022-06-10          11.268       2.124\n",
      "2022-06-13          11.115       2.073\n",
      "2022-06-14          11.133       2.050\n",
      "2022-06-15          11.238       2.073\n",
      "2022-06-16          10.672       2.004\n"
     ]
    }
   ],
   "source": [
    "df_combined = pd.concat([df1, df2], axis=1)\n",
    "print(df_combined.head())\n",
    "df_combined.tail()\n",
    "df_combined.to_excel(\"etf_combined.xlsx\")"
   ]
  },
  {
   "cell_type": "code",
   "execution_count": 10,
   "metadata": {},
   "outputs": [
    {
     "name": "stdout",
     "output_type": "stream",
     "text": [
      "Rows before: 777\n",
      "Rows after: 753\n",
      "Number of dates dropped: 24\n"
     ]
    }
   ],
   "source": [
    "df_combined_nonan = df_combined.dropna()\n",
    "print(f\"Rows before: {len(df_combined)}\")\n",
    "print(f\"Rows after: {len(df_combined_nonan)}\")\n",
    "print(f\"Number of dates dropped: {len(df_combined) - len(df_combined_nonan)}\")\n",
    "df_combined_nonan.to_excel(\"etf_combined_nonan.xlsx\")"
   ]
  },
  {
   "cell_type": "code",
   "execution_count": null,
   "metadata": {},
   "outputs": [],
   "source": []
  },
  {
   "cell_type": "code",
   "execution_count": null,
   "metadata": {},
   "outputs": [],
   "source": []
  },
  {
   "cell_type": "code",
   "execution_count": null,
   "metadata": {},
   "outputs": [],
   "source": []
  },
  {
   "cell_type": "code",
   "execution_count": null,
   "metadata": {},
   "outputs": [],
   "source": []
  }
 ],
 "metadata": {
  "kernelspec": {
   "display_name": ".venv",
   "language": "python",
   "name": "python3"
  },
  "language_info": {
   "codemirror_mode": {
    "name": "ipython",
    "version": 3
   },
   "file_extension": ".py",
   "mimetype": "text/x-python",
   "name": "python",
   "nbconvert_exporter": "python",
   "pygments_lexer": "ipython3",
   "version": "3.12.4"
  }
 },
 "nbformat": 4,
 "nbformat_minor": 2
}
