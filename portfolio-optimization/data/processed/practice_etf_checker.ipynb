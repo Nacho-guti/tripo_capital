{
 "cells": [
  {
   "cell_type": "code",
   "execution_count": 16,
   "metadata": {},
   "outputs": [],
   "source": [
    "import pandas as pd\n",
    "import numpy as np\n",
    "import os"
   ]
  },
  {
   "cell_type": "code",
   "execution_count": 17,
   "metadata": {},
   "outputs": [
    {
     "data": {
      "text/plain": [
       "'/Users/nachogutierrezdelaroza/Documents/2_PP/WM/portfolio-optimization/data/processed'"
      ]
     },
     "execution_count": 17,
     "metadata": {},
     "output_type": "execute_result"
    }
   ],
   "source": [
    "pwd"
   ]
  },
  {
   "cell_type": "code",
   "execution_count": 18,
   "metadata": {},
   "outputs": [
    {
     "name": "stdout",
     "output_type": "stream",
     "text": [
      "Index(['Last Price', 'Name', 'FIGI', 'Ticker', 'Description'], dtype='object')\n"
     ]
    },
    {
     "data": {
      "text/html": [
       "<div>\n",
       "<style scoped>\n",
       "    .dataframe tbody tr th:only-of-type {\n",
       "        vertical-align: middle;\n",
       "    }\n",
       "\n",
       "    .dataframe tbody tr th {\n",
       "        vertical-align: top;\n",
       "    }\n",
       "\n",
       "    .dataframe thead th {\n",
       "        text-align: right;\n",
       "    }\n",
       "</style>\n",
       "<table border=\"1\" class=\"dataframe\">\n",
       "  <thead>\n",
       "    <tr style=\"text-align: right;\">\n",
       "      <th></th>\n",
       "      <th>Last Price</th>\n",
       "      <th>Name</th>\n",
       "      <th>FIGI</th>\n",
       "      <th>Ticker</th>\n",
       "      <th>Description</th>\n",
       "    </tr>\n",
       "    <tr>\n",
       "      <th>Date</th>\n",
       "      <th></th>\n",
       "      <th></th>\n",
       "      <th></th>\n",
       "      <th></th>\n",
       "      <th></th>\n",
       "    </tr>\n",
       "  </thead>\n",
       "  <tbody>\n",
       "    <tr>\n",
       "      <th>2025-06-06</th>\n",
       "      <td>7.35</td>\n",
       "      <td>HSBC MSCI China A UCITS ETF GBP iNAV</td>\n",
       "      <td>BBG01B9B2V63</td>\n",
       "      <td>HCASGBIV Index</td>\n",
       "      <td>Objective to replicate the performance of the ...</td>\n",
       "    </tr>\n",
       "    <tr>\n",
       "      <th>2025-06-05</th>\n",
       "      <td>7.33</td>\n",
       "      <td>NaN</td>\n",
       "      <td>NaN</td>\n",
       "      <td>NaN</td>\n",
       "      <td>NaN</td>\n",
       "    </tr>\n",
       "    <tr>\n",
       "      <th>2025-06-04</th>\n",
       "      <td>7.32</td>\n",
       "      <td>NaN</td>\n",
       "      <td>NaN</td>\n",
       "      <td>NaN</td>\n",
       "      <td>NaN</td>\n",
       "    </tr>\n",
       "    <tr>\n",
       "      <th>2025-06-03</th>\n",
       "      <td>7.31</td>\n",
       "      <td>NaN</td>\n",
       "      <td>NaN</td>\n",
       "      <td>NaN</td>\n",
       "      <td>NaN</td>\n",
       "    </tr>\n",
       "    <tr>\n",
       "      <th>2025-06-02</th>\n",
       "      <td>7.26</td>\n",
       "      <td>NaN</td>\n",
       "      <td>NaN</td>\n",
       "      <td>NaN</td>\n",
       "      <td>NaN</td>\n",
       "    </tr>\n",
       "  </tbody>\n",
       "</table>\n",
       "</div>"
      ],
      "text/plain": [
       "            Last Price                                   Name          FIGI  \\\n",
       "Date                                                                          \n",
       "2025-06-06        7.35  HSBC MSCI China A UCITS ETF GBP iNAV   BBG01B9B2V63   \n",
       "2025-06-05        7.33                                    NaN           NaN   \n",
       "2025-06-04        7.32                                    NaN           NaN   \n",
       "2025-06-03        7.31                                    NaN           NaN   \n",
       "2025-06-02        7.26                                    NaN           NaN   \n",
       "\n",
       "                    Ticker                                        Description  \n",
       "Date                                                                           \n",
       "2025-06-06  HCASGBIV Index  Objective to replicate the performance of the ...  \n",
       "2025-06-05             NaN                                                NaN  \n",
       "2025-06-04             NaN                                                NaN  \n",
       "2025-06-03             NaN                                                NaN  \n",
       "2025-06-02             NaN                                                NaN  "
      ]
     },
     "execution_count": 18,
     "metadata": {},
     "output_type": "execute_result"
    }
   ],
   "source": [
    "df = pd.read_excel(\"../raw/equities/em/hsbc_china_em_etf.xlsx\", index_col='Date', parse_dates=True)\n",
    "print(df.columns)\n",
    "df.head()\n"
   ]
  },
  {
   "cell_type": "code",
   "execution_count": 19,
   "metadata": {},
   "outputs": [
    {
     "data": {
      "text/html": [
       "<div>\n",
       "<style scoped>\n",
       "    .dataframe tbody tr th:only-of-type {\n",
       "        vertical-align: middle;\n",
       "    }\n",
       "\n",
       "    .dataframe tbody tr th {\n",
       "        vertical-align: top;\n",
       "    }\n",
       "\n",
       "    .dataframe thead th {\n",
       "        text-align: right;\n",
       "    }\n",
       "</style>\n",
       "<table border=\"1\" class=\"dataframe\">\n",
       "  <thead>\n",
       "    <tr style=\"text-align: right;\">\n",
       "      <th></th>\n",
       "      <th>HCASGBIV Index</th>\n",
       "      <th>Name</th>\n",
       "      <th>FIGI</th>\n",
       "      <th>Ticker</th>\n",
       "      <th>Description</th>\n",
       "    </tr>\n",
       "    <tr>\n",
       "      <th>Date</th>\n",
       "      <th></th>\n",
       "      <th></th>\n",
       "      <th></th>\n",
       "      <th></th>\n",
       "      <th></th>\n",
       "    </tr>\n",
       "  </thead>\n",
       "  <tbody>\n",
       "    <tr>\n",
       "      <th>2025-06-06</th>\n",
       "      <td>7.35</td>\n",
       "      <td>HSBC MSCI China A UCITS ETF GBP iNAV</td>\n",
       "      <td>BBG01B9B2V63</td>\n",
       "      <td>HCASGBIV Index</td>\n",
       "      <td>Objective to replicate the performance of the ...</td>\n",
       "    </tr>\n",
       "    <tr>\n",
       "      <th>2025-06-05</th>\n",
       "      <td>7.33</td>\n",
       "      <td>NaN</td>\n",
       "      <td>NaN</td>\n",
       "      <td>NaN</td>\n",
       "      <td>NaN</td>\n",
       "    </tr>\n",
       "    <tr>\n",
       "      <th>2025-06-04</th>\n",
       "      <td>7.32</td>\n",
       "      <td>NaN</td>\n",
       "      <td>NaN</td>\n",
       "      <td>NaN</td>\n",
       "      <td>NaN</td>\n",
       "    </tr>\n",
       "    <tr>\n",
       "      <th>2025-06-03</th>\n",
       "      <td>7.31</td>\n",
       "      <td>NaN</td>\n",
       "      <td>NaN</td>\n",
       "      <td>NaN</td>\n",
       "      <td>NaN</td>\n",
       "    </tr>\n",
       "    <tr>\n",
       "      <th>2025-06-02</th>\n",
       "      <td>7.26</td>\n",
       "      <td>NaN</td>\n",
       "      <td>NaN</td>\n",
       "      <td>NaN</td>\n",
       "      <td>NaN</td>\n",
       "    </tr>\n",
       "  </tbody>\n",
       "</table>\n",
       "</div>"
      ],
      "text/plain": [
       "            HCASGBIV Index                                   Name  \\\n",
       "Date                                                                \n",
       "2025-06-06            7.35  HSBC MSCI China A UCITS ETF GBP iNAV    \n",
       "2025-06-05            7.33                                    NaN   \n",
       "2025-06-04            7.32                                    NaN   \n",
       "2025-06-03            7.31                                    NaN   \n",
       "2025-06-02            7.26                                    NaN   \n",
       "\n",
       "                    FIGI          Ticker  \\\n",
       "Date                                       \n",
       "2025-06-06  BBG01B9B2V63  HCASGBIV Index   \n",
       "2025-06-05           NaN             NaN   \n",
       "2025-06-04           NaN             NaN   \n",
       "2025-06-03           NaN             NaN   \n",
       "2025-06-02           NaN             NaN   \n",
       "\n",
       "                                                  Description  \n",
       "Date                                                           \n",
       "2025-06-06  Objective to replicate the performance of the ...  \n",
       "2025-06-05                                                NaN  \n",
       "2025-06-04                                                NaN  \n",
       "2025-06-03                                                NaN  \n",
       "2025-06-02                                                NaN  "
      ]
     },
     "execution_count": 19,
     "metadata": {},
     "output_type": "execute_result"
    }
   ],
   "source": [
    "ticker_value = df['Ticker'].dropna().iloc[0]\n",
    "df = df.rename(columns={'Last Price': ticker_value})\n",
    "df.head()"
   ]
  },
  {
   "cell_type": "code",
   "execution_count": 20,
   "metadata": {},
   "outputs": [
    {
     "name": "stdout",
     "output_type": "stream",
     "text": [
      "2022-06-06 20:03:43.587013\n"
     ]
    },
    {
     "data": {
      "text/html": [
       "<div>\n",
       "<style scoped>\n",
       "    .dataframe tbody tr th:only-of-type {\n",
       "        vertical-align: middle;\n",
       "    }\n",
       "\n",
       "    .dataframe tbody tr th {\n",
       "        vertical-align: top;\n",
       "    }\n",
       "\n",
       "    .dataframe thead th {\n",
       "        text-align: right;\n",
       "    }\n",
       "</style>\n",
       "<table border=\"1\" class=\"dataframe\">\n",
       "  <thead>\n",
       "    <tr style=\"text-align: right;\">\n",
       "      <th></th>\n",
       "      <th>HCASGBIV Index</th>\n",
       "    </tr>\n",
       "    <tr>\n",
       "      <th>Date</th>\n",
       "      <th></th>\n",
       "    </tr>\n",
       "  </thead>\n",
       "  <tbody>\n",
       "    <tr>\n",
       "      <th>2022-06-13</th>\n",
       "      <td>566.750</td>\n",
       "    </tr>\n",
       "    <tr>\n",
       "      <th>2022-06-10</th>\n",
       "      <td>583.125</td>\n",
       "    </tr>\n",
       "    <tr>\n",
       "      <th>2022-06-09</th>\n",
       "      <td>577.500</td>\n",
       "    </tr>\n",
       "    <tr>\n",
       "      <th>2022-06-08</th>\n",
       "      <td>591.500</td>\n",
       "    </tr>\n",
       "    <tr>\n",
       "      <th>2022-06-07</th>\n",
       "      <td>570.125</td>\n",
       "    </tr>\n",
       "  </tbody>\n",
       "</table>\n",
       "</div>"
      ],
      "text/plain": [
       "            HCASGBIV Index\n",
       "Date                      \n",
       "2022-06-13         566.750\n",
       "2022-06-10         583.125\n",
       "2022-06-09         577.500\n",
       "2022-06-08         591.500\n",
       "2022-06-07         570.125"
      ]
     },
     "execution_count": 20,
     "metadata": {},
     "output_type": "execute_result"
    }
   ],
   "source": [
    "df_clean = df[[ticker_value]]\n",
    "three_years_back = pd.Timestamp.now() - pd.DateOffset(years=3)\n",
    "print(three_years_back)\n",
    "df1 = df_clean[df_clean.index >= three_years_back]\n",
    "df1.tail()"
   ]
  },
  {
   "cell_type": "code",
   "execution_count": 23,
   "metadata": {},
   "outputs": [
    {
     "data": {
      "text/html": [
       "<div>\n",
       "<style scoped>\n",
       "    .dataframe tbody tr th:only-of-type {\n",
       "        vertical-align: middle;\n",
       "    }\n",
       "\n",
       "    .dataframe tbody tr th {\n",
       "        vertical-align: top;\n",
       "    }\n",
       "\n",
       "    .dataframe thead th {\n",
       "        text-align: right;\n",
       "    }\n",
       "</style>\n",
       "<table border=\"1\" class=\"dataframe\">\n",
       "  <thead>\n",
       "    <tr style=\"text-align: right;\">\n",
       "      <th></th>\n",
       "      <th>FFEDWGA LX</th>\n",
       "    </tr>\n",
       "    <tr>\n",
       "      <th>Date</th>\n",
       "      <th></th>\n",
       "    </tr>\n",
       "  </thead>\n",
       "  <tbody>\n",
       "    <tr>\n",
       "      <th>2020-05-22</th>\n",
       "      <td>2.106</td>\n",
       "    </tr>\n",
       "    <tr>\n",
       "      <th>2020-05-21</th>\n",
       "      <td>2.101</td>\n",
       "    </tr>\n",
       "    <tr>\n",
       "      <th>2020-05-20</th>\n",
       "      <td>2.113</td>\n",
       "    </tr>\n",
       "    <tr>\n",
       "      <th>2020-05-19</th>\n",
       "      <td>2.073</td>\n",
       "    </tr>\n",
       "    <tr>\n",
       "      <th>2020-05-18</th>\n",
       "      <td>2.079</td>\n",
       "    </tr>\n",
       "  </tbody>\n",
       "</table>\n",
       "</div>"
      ],
      "text/plain": [
       "            FFEDWGA LX\n",
       "Date                  \n",
       "2020-05-22       2.106\n",
       "2020-05-21       2.101\n",
       "2020-05-20       2.113\n",
       "2020-05-19       2.073\n",
       "2020-05-18       2.079"
      ]
     },
     "execution_count": 23,
     "metadata": {},
     "output_type": "execute_result"
    }
   ],
   "source": [
    "df2 = pd.read_excel(\"../raw/equities/dev_ex_us/fid_gro_exus_etf.xlsx\", index_col='Date', parse_dates=True)\n",
    "ticker2 = df2['Ticker'].dropna().iloc[0]\n",
    "df2 = df2.rename(columns={'Last Price': ticker2})\n",
    "df2_clean = df2[[ticker2]]\n",
    "df2_clean.tail()\n"
   ]
  },
  {
   "cell_type": "code",
   "execution_count": 24,
   "metadata": {},
   "outputs": [
    {
     "name": "stdout",
     "output_type": "stream",
     "text": [
      "2022-06-06 20:03:55.698617\n"
     ]
    },
    {
     "data": {
      "text/html": [
       "<div>\n",
       "<style scoped>\n",
       "    .dataframe tbody tr th:only-of-type {\n",
       "        vertical-align: middle;\n",
       "    }\n",
       "\n",
       "    .dataframe tbody tr th {\n",
       "        vertical-align: top;\n",
       "    }\n",
       "\n",
       "    .dataframe thead th {\n",
       "        text-align: right;\n",
       "    }\n",
       "</style>\n",
       "<table border=\"1\" class=\"dataframe\">\n",
       "  <thead>\n",
       "    <tr style=\"text-align: right;\">\n",
       "      <th></th>\n",
       "      <th>FFEDWGA LX</th>\n",
       "    </tr>\n",
       "    <tr>\n",
       "      <th>Date</th>\n",
       "      <th></th>\n",
       "    </tr>\n",
       "  </thead>\n",
       "  <tbody>\n",
       "    <tr>\n",
       "      <th>2022-06-13</th>\n",
       "      <td>2.073</td>\n",
       "    </tr>\n",
       "    <tr>\n",
       "      <th>2022-06-10</th>\n",
       "      <td>2.124</td>\n",
       "    </tr>\n",
       "    <tr>\n",
       "      <th>2022-06-09</th>\n",
       "      <td>2.171</td>\n",
       "    </tr>\n",
       "    <tr>\n",
       "      <th>2022-06-08</th>\n",
       "      <td>2.211</td>\n",
       "    </tr>\n",
       "    <tr>\n",
       "      <th>2022-06-07</th>\n",
       "      <td>2.206</td>\n",
       "    </tr>\n",
       "  </tbody>\n",
       "</table>\n",
       "</div>"
      ],
      "text/plain": [
       "            FFEDWGA LX\n",
       "Date                  \n",
       "2022-06-13       2.073\n",
       "2022-06-10       2.124\n",
       "2022-06-09       2.171\n",
       "2022-06-08       2.211\n",
       "2022-06-07       2.206"
      ]
     },
     "execution_count": 24,
     "metadata": {},
     "output_type": "execute_result"
    }
   ],
   "source": [
    "three_years_back = pd.Timestamp.now() - pd.DateOffset(years=3)\n",
    "print(three_years_back)\n",
    "df2 = df2_clean[df2_clean.index >= three_years_back]\n",
    "df2.tail()"
   ]
  },
  {
   "cell_type": "code",
   "execution_count": 25,
   "metadata": {},
   "outputs": [
    {
     "name": "stdout",
     "output_type": "stream",
     "text": [
      "            HCASGBIV Index\n",
      "Date                      \n",
      "2022-06-07         570.125\n",
      "2022-06-08         591.500\n",
      "2022-06-09         577.500\n",
      "2022-06-10         583.125\n",
      "2022-06-13         566.750\n",
      "            FFEDWGA LX\n",
      "Date                  \n",
      "2022-06-07       2.206\n",
      "2022-06-08       2.211\n",
      "2022-06-09       2.171\n",
      "2022-06-10       2.124\n",
      "2022-06-13       2.073\n"
     ]
    }
   ],
   "source": [
    "df1 = df1.sort_index()\n",
    "print(df1.head())\n",
    "df2 = df2.sort_index()\n",
    "print(df2.head())\n"
   ]
  },
  {
   "cell_type": "code",
   "execution_count": 27,
   "metadata": {},
   "outputs": [
    {
     "name": "stdout",
     "output_type": "stream",
     "text": [
      "            HCASGBIV Index  FFEDWGA LX\n",
      "Date                                  \n",
      "2022-06-07         570.125       2.206\n",
      "2022-06-08         591.500       2.211\n",
      "2022-06-09         577.500       2.171\n",
      "2022-06-10         583.125       2.124\n",
      "2022-06-13         566.750       2.073\n"
     ]
    }
   ],
   "source": [
    "df_combined = pd.concat([df1, df2], axis=1)\n",
    "print(df_combined.head())\n",
    "df_combined.tail()\n",
    "df_combined.to_excel(\"etf_combined.xlsx\")"
   ]
  },
  {
   "cell_type": "code",
   "execution_count": 37,
   "metadata": {},
   "outputs": [
    {
     "name": "stdout",
     "output_type": "stream",
     "text": [
      "Rows before: 784\n",
      "Rows after: 751\n",
      "Number of dates dropped: 33\n"
     ]
    }
   ],
   "source": [
    "df_combined_nonan = df_combined.dropna()\n",
    "print(f\"Rows before: {len(df_combined)}\")\n",
    "print(f\"Rows after: {len(df_combined_nonan)}\")\n",
    "print(f\"Number of dates dropped: {len(df_combined) - len(df_combined_nonan)}\")\n",
    "df_combined_nonan.to_excel(\"etf_combined_nonan.xlsx\")"
   ]
  }
 ],
 "metadata": {
  "kernelspec": {
   "display_name": ".venv",
   "language": "python",
   "name": "python3"
  },
  "language_info": {
   "codemirror_mode": {
    "name": "ipython",
    "version": 3
   },
   "file_extension": ".py",
   "mimetype": "text/x-python",
   "name": "python",
   "nbconvert_exporter": "python",
   "pygments_lexer": "ipython3",
   "version": "3.12.4"
  }
 },
 "nbformat": 4,
 "nbformat_minor": 2
}
