{
 "cells": [
  {
   "cell_type": "code",
   "execution_count": 8,
   "metadata": {},
   "outputs": [],
   "source": [
    "import numpy as np  \n",
    "import pandas as pd  \n",
    "\n"
   ]
  },
  {
   "cell_type": "code",
   "execution_count": 9,
   "metadata": {},
   "outputs": [
    {
     "name": "stdout",
     "output_type": "stream",
     "text": [
      "Available columns: Index(['PortfolioReturn'], dtype='object')\n",
      "Max Drawdown: -7.31%\n"
     ]
    }
   ],
   "source": [
    "def max_drawdown(returns_series: pd.Series) -> float:  \n",
    "    \"\"\"Calculate maximum drawdown for daily returns\"\"\"  \n",
    "    wealth_index = (1 + returns_series).cumprod()  \n",
    "    previous_peaks = wealth_index.cummax()  \n",
    "    drawdowns = (wealth_index - previous_peaks) / previous_peaks  \n",
    "    return drawdowns.min() * 100  # Return as percentage  \n",
    "\n",
    "# Fix the date handling in the drawdown calculation\n",
    "portfolio_daily_returns = pd.read_excel('../../results/portfolio_returns_last3y.xlsx', index_col='Date', parse_dates=True)\n",
    "print(\"Available columns:\", portfolio_daily_returns.columns)\n",
    "\n",
    "# Calculate drawdown using the correct column\n",
    "print(f\"Max Drawdown: {max_drawdown(portfolio_daily_returns['PortfolioReturn']):.2f}%\")\n"
   ]
  },
  {
   "cell_type": "code",
   "execution_count": null,
   "metadata": {},
   "outputs": [],
   "source": []
  }
 ],
 "metadata": {
  "kernelspec": {
   "display_name": ".venv",
   "language": "python",
   "name": "python3"
  },
  "language_info": {
   "codemirror_mode": {
    "name": "ipython",
    "version": 3
   },
   "file_extension": ".py",
   "mimetype": "text/x-python",
   "name": "python",
   "nbconvert_exporter": "python",
   "pygments_lexer": "ipython3",
   "version": "3.12.4"
  }
 },
 "nbformat": 4,
 "nbformat_minor": 2
}
