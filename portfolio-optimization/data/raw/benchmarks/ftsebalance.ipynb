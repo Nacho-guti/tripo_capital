{
 "cells": [
  {
   "cell_type": "code",
   "execution_count": 134,
   "id": "f0eceb0c",
   "metadata": {},
   "outputs": [],
   "source": [
    "import numpy as np\n",
    "import pandas as pd"
   ]
  },
  {
   "cell_type": "code",
   "execution_count": 135,
   "id": "2cad4134",
   "metadata": {},
   "outputs": [
    {
     "name": "stdout",
     "output_type": "stream",
     "text": [
      "        Date  Last Price\n",
      "0 2025-05-28         NaN\n",
      "1 2025-05-27     5578.73\n",
      "2 2025-05-26     5526.75\n",
      "           Date  Last Price\n",
      "1297 2020-06-02     4422.08\n",
      "1298 2020-06-01     4402.58\n",
      "1299 2020-05-29     4393.36\n"
     ]
    }
   ],
   "source": [
    "df = pd.read_excel(\"Bond Data/ftse_balance_prices.xlsx\", sheet_name=\"Sheet1\")\n",
    "\n",
    "print(df.head(3))\n",
    "print(df.tail(3))"
   ]
  },
  {
   "cell_type": "code",
   "execution_count": 136,
   "id": "a997dac6",
   "metadata": {},
   "outputs": [
    {
     "name": "stdout",
     "output_type": "stream",
     "text": [
      "Total Price Return: 26.98%\n",
      "Start Date: 2020-05-29 P_start: 4393.36\n",
      "End Date: 2025-05-27 P_end: 5578.73\n"
     ]
    }
   ],
   "source": [
    "# 1. Total Price Return over the full period\n",
    "\n",
    "start_date = df['Date'].iloc[-1]\n",
    "end_date = df['Date'].iloc[1]\n",
    "\n",
    "P_start = df['Last Price'].iloc[-1]\n",
    "P_end = df['Last Price'].iloc[1]\n",
    "\n",
    "total_return = P_end / P_start - 1\n",
    "\n",
    "print(f\"Total Price Return: {total_return:.2%}\")\n",
    "\n",
    "print(\"Start Date:\", start_date.date(), \"P_start:\", P_start)\n",
    "print(\"End Date:\", end_date.date(), \"P_end:\", P_end)\n",
    "\n"
   ]
  },
  {
   "cell_type": "code",
   "execution_count": 137,
   "id": "399874e4",
   "metadata": {},
   "outputs": [
    {
     "name": "stdout",
     "output_type": "stream",
     "text": [
      "CAGR over 5 years: 4.90%\n"
     ]
    }
   ],
   "source": [
    "# 2. CAGR over n years\n",
    "\n",
    "days = (df['Date'].iloc[1] - df['Date'].iloc[-1]).days\n",
    "\n",
    "n_years = days / 365.25\n",
    "\n",
    "cagr = (P_end / P_start)**(1 / n_years) - 1\n",
    "\n",
    "print(f\"CAGR over 5 years: {cagr:.2%}\")\n",
    "\n"
   ]
  },
  {
   "cell_type": "code",
   "execution_count": 138,
   "id": "543e88ce",
   "metadata": {},
   "outputs": [],
   "source": [
    "# 3. (Optional) Dividend-Adjusted CAGR\n",
    "# If you have an estimated average dividend yield, e.g. 2.2%:\n",
    "#div_yield = 0.022\n",
    "#div_adj_cagr = cagr + div_yield\n",
    "#print(f\"Dividend-Adjusted CAGR ≈ {div_adj_cagr:.2%}\")\n",
    "\n"
   ]
  },
  {
   "cell_type": "code",
   "execution_count": 139,
   "id": "92b37c29",
   "metadata": {},
   "outputs": [
    {
     "name": "stdout",
     "output_type": "stream",
     "text": [
      "Number of observations: 1299, Years: 4.99\n",
      "Trading Days: 260.12\n",
      "Annualised Volatility: 7.76%\n"
     ]
    },
    {
     "name": "stderr",
     "output_type": "stream",
     "text": [
      "/var/folders/k0/9514c2kj447cm58pbj7ncbpw0000gn/T/ipykernel_23451/944100849.py:6: FutureWarning: The default fill_method='pad' in Series.pct_change is deprecated and will be removed in a future version. Either fill in any non-leading NA values prior to calling pct_change or specify 'fill_method=None' to not fill NA values.\n",
      "  rets = df['Last Price'].pct_change().dropna()\n"
     ]
    }
   ],
   "source": [
    "# 4. Annualised Volatility\n",
    "# Annualised volatility is the standard deviation of daily returns, scaled by the square root of 252 trading days.\n",
    "\n",
    "# First get daily return\n",
    "df = df.sort_values('Date').reset_index(drop=True)\n",
    "rets = df['Last Price'].pct_change().dropna()\n",
    "\n",
    "# Count observations because they are not 252\n",
    "n_obs = len(rets)\n",
    "years = (end_date - start_date).days / 365.25\n",
    "print(f\"Number of observations: {n_obs}, Years: {years:.2f}\")\n",
    "\n",
    "trading_days = n_obs / years\n",
    "print(f\"Trading Days: {trading_days:.2f}\")\n",
    "\n",
    "# Calucate annualised volatility\n",
    "daily_std = rets.std()\n",
    "annualised_volatility = daily_std * np.sqrt(trading_days)\n",
    "print(f\"Annualised Volatility: {annualised_volatility:.2%}\")\n",
    "\n",
    "\n",
    "\n"
   ]
  },
  {
   "cell_type": "code",
   "execution_count": 140,
   "id": "fc9bafc9",
   "metadata": {},
   "outputs": [
    {
     "name": "stdout",
     "output_type": "stream",
     "text": [
      "Max Drawdown: -11.02%\n",
      "Max Drawdown Date: 2022-06-16\n",
      "Max Drawdown Date: -11.02%\n",
      "Peak Date (Start of drop): 2021-12-08 at Price: 5264.22\n",
      "Trough Date (End of drop): 2022-06-16 at Price: 4684.14\n"
     ]
    }
   ],
   "source": [
    "# 5. Max Drawdown\n",
    "# compute running maximum of price series\n",
    "running_max = df['Last Price'].cummax().iloc[1:] # returns the maximum value of the series up to each point\n",
    "\n",
    "# Then, we calculate the drawdown at each date\n",
    "drawdown = df['Last Price'] / running_max - 1\n",
    "\n",
    "# The maximum drawdown is the minimum value of the drawdown series\n",
    "max_drawdown = drawdown.min()\n",
    "print(f\"Max Drawdown: {max_drawdown:.2%}\")\n",
    "\n",
    "# Locating the date of the maximum drawdown\n",
    "trough_max_drawdown = drawdown.idxmin()\n",
    "trough_date = df.loc[trough_max_drawdown, 'Date']\n",
    "print(f\"Max Drawdown Date: {trough_date.date()}\")\n",
    "\n",
    "# Finding the peak before the trough\n",
    "peak_idx = df['Last Price'][:trough_max_drawdown].idxmax()\n",
    "peak_date = df.loc[peak_idx, 'Date']\n",
    "\n",
    "print(f\"Max Drawdown Date: {max_drawdown:.2%}\")\n",
    "print(f\"Peak Date (Start of drop): {peak_date.date()} at Price: {df.loc[peak_idx, 'Last Price']:.2f}\")\n",
    "print(f\"Trough Date (End of drop): {trough_date.date()} at Price: {df.loc[trough_max_drawdown, 'Last Price']:.2f}\")\n"
   ]
  },
  {
   "cell_type": "code",
   "execution_count": 141,
   "id": "50de2fc6",
   "metadata": {},
   "outputs": [
    {
     "name": "stdout",
     "output_type": "stream",
     "text": [
      "Annualised Return: 5.08%\n",
      "Annualised Volatility: 7.76%\n",
      "Sharpe Ratio (rf=0): 0.66\n"
     ]
    }
   ],
   "source": [
    "# 6. Sharpe Ratio (r_f = 0)\n",
    "# annualised return and vol from daily series\n",
    "\n",
    "mu_daily = rets.mean()  # daily mean return\n",
    "sigma_daily = rets.std() # daily standard deviation\n",
    "\n",
    "\n",
    "annual_return = mu_daily * trading_days # E[R], annualised return\n",
    "annual_vol = sigma_daily * np.sqrt(trading_days) # E[σ], annualised volatility\n",
    "\n",
    "sharpe = annual_return / annual_vol\n",
    "\n",
    "print(f\"Annualised Return: {annual_return:.2%}\")\n",
    "print(f\"Annualised Volatility: {annual_vol:.2%}\")\n",
    "print(f\"Sharpe Ratio (rf=0): {sharpe:.2f}\")"
   ]
  },
  {
   "cell_type": "code",
   "execution_count": 142,
   "id": "cde5a62f",
   "metadata": {},
   "outputs": [
    {
     "name": "stdout",
     "output_type": "stream",
     "text": [
      "Start Date: 2020-05-29 Price: 4393.36\n",
      "End Date: 2025-05-27 Price: 5578.73\n",
      "Total Price Return: 26.98%\n",
      "CAGR over 5 years: 4.90%\n",
      "Number of observations: 1299, Years: 4.99\n",
      "Trading Days: 260.12\n",
      "Annualised Volatility: 7.76%\n",
      "Max Drawdown Date: -11.02%\n",
      "Peak Date (Start of drop): 2021-12-08 at Price: 5264.22\n",
      "Trough Date (End of drop): 2022-06-16 at Price: 4684.14\n",
      "Annualised Return: 5.08%\n",
      "Annualised Volatility: 7.76%\n",
      "Sharpe Ratio (rf=0): 0.66\n"
     ]
    }
   ],
   "source": [
    "print(\"Start Date:\", start_date.date(), \"Price:\", P_start)\n",
    "print(\"End Date:\", end_date.date(), \"Price:\", P_end)\n",
    "\n",
    "print(f\"Total Price Return: {total_return:.2%}\")\n",
    "\n",
    "print(f\"CAGR over 5 years: {cagr:.2%}\")\n",
    "\n",
    "print(f\"Number of observations: {n_obs}, Years: {years:.2f}\")\n",
    "print(f\"Trading Days: {trading_days:.2f}\")\n",
    "print(f\"Annualised Volatility: {annualised_volatility:.2%}\")\n",
    "\n",
    "\n",
    "print(f\"Max Drawdown Date: {max_drawdown:.2%}\")\n",
    "print(f\"Peak Date (Start of drop): {peak_date.date()} at Price: {df.loc[peak_idx, 'Last Price']:.2f}\")\n",
    "print(f\"Trough Date (End of drop): {trough_date.date()} at Price: {df.loc[trough_max_drawdown, 'Last Price']:.2f}\")\n",
    "\n",
    "\n",
    "\n",
    "print(f\"Annualised Return: {annual_return:.2%}\")\n",
    "print(f\"Annualised Volatility: {annual_vol:.2%}\")\n",
    "print(f\"Sharpe Ratio (rf=0): {sharpe:.2f}\")"
   ]
  },
  {
   "cell_type": "code",
   "execution_count": 143,
   "id": "de8e97c0",
   "metadata": {},
   "outputs": [
    {
     "name": "stdout",
     "output_type": "stream",
     "text": [
      "🔍 FTSE BALANCE - PERFORMANCE SUMMARY\n",
      "==================================================\n",
      "\n",
      "📅 Period Analysis:\n",
      "   Start: 2020-05-29 (£4393.36)\n",
      "   End: 2025-05-27 (£5578.73)\n",
      "   Duration: 4.99 years (1299 observations)\n",
      "\n",
      "📊 Returns:\n",
      "   Total Return: 26.98%\n",
      "   CAGR: 4.90%\n",
      "   Annualised Return: 5.08%\n",
      "\n",
      "⚠️ Risk Analysis:\n",
      "   Volatility: 7.76%\n",
      "   Max Drawdown: -11.02%\n",
      "   Sharpe Ratio: 0.66\n",
      "\n",
      "📉 Worst Period:\n",
      "   Peak: 2021-12-08 (£5264.22)\n",
      "   Trough: 2022-06-16 (£4684.14)\n"
     ]
    }
   ],
   "source": [
    "print(\"🔍 FTSE BALANCE - PERFORMANCE SUMMARY\")\n",
    "print(\"=\" * 50)\n",
    "\n",
    "print(\"\\n📅 Period Analysis:\")\n",
    "print(f\"   Start: {start_date.date()} (£{P_start})\")\n",
    "print(f\"   End: {end_date.date()} (£{P_end})\")\n",
    "print(f\"   Duration: {years:.2f} years ({n_obs} observations)\")\n",
    "\n",
    "print(\"\\n📊 Returns:\")\n",
    "print(f\"   Total Return: {total_return:.2%}\")\n",
    "print(f\"   CAGR: {cagr:.2%}\")\n",
    "print(f\"   Annualised Return: {annual_return:.2%}\")\n",
    "\n",
    "print(\"\\n⚠️ Risk Analysis:\")\n",
    "print(f\"   Volatility: {annualised_volatility:.2%}\")\n",
    "print(f\"   Max Drawdown: {max_drawdown:.2%}\")\n",
    "print(f\"   Sharpe Ratio: {sharpe:.2f}\")\n",
    "\n",
    "print(\"\\n📉 Worst Period:\")\n",
    "print(f\"   Peak: {peak_date.date()} (£{df.loc[peak_idx, 'Last Price']:.2f})\")\n",
    "print(f\"   Trough: {trough_date.date()} (£{df.loc[trough_max_drawdown, 'Last Price']:.2f})\")\n"
   ]
  },
  {
   "cell_type": "markdown",
   "id": "3657ca0a",
   "metadata": {},
   "source": []
  },
  {
   "cell_type": "markdown",
   "id": "f87e7042",
   "metadata": {},
   "source": []
  },
  {
   "cell_type": "markdown",
   "id": "1400cb36",
   "metadata": {},
   "source": []
  },
  {
   "cell_type": "markdown",
   "id": "77d739b9",
   "metadata": {},
   "source": []
  },
  {
   "cell_type": "markdown",
   "id": "615ee37d",
   "metadata": {},
   "source": []
  }
 ],
 "metadata": {
  "kernelspec": {
   "display_name": ".venv",
   "language": "python",
   "name": "python3"
  },
  "language_info": {
   "codemirror_mode": {
    "name": "ipython",
    "version": 3
   },
   "file_extension": ".py",
   "mimetype": "text/x-python",
   "name": "python",
   "nbconvert_exporter": "python",
   "pygments_lexer": "ipython3",
   "version": "3.12.4"
  }
 },
 "nbformat": 4,
 "nbformat_minor": 5
}
